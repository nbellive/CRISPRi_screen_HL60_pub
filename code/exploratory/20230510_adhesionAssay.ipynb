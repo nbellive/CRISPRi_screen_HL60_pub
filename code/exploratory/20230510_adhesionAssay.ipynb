{
 "cells": [
  {
   "cell_type": "code",
   "execution_count": 2,
   "id": "97849e4f",
   "metadata": {},
   "outputs": [],
   "source": [
    "import glob\n",
    "import numpy as np\n",
    "import seaborn as sns\n",
    "import pandas as pd\n",
    "\n",
    "import matplotlib.pyplot as plt\n",
    "plt.style.use('styleNB.mplstyle')\n"
   ]
  },
  {
   "cell_type": "code",
   "execution_count": 3,
   "id": "06d22426",
   "metadata": {},
   "outputs": [
    {
     "name": "stdout",
     "output_type": "stream",
     "text": [
      "0.7706411146286546\n"
     ]
    }
   ],
   "source": [
    "batch1 = (5845+1899+6159+7417+2051+6227+6696+2340+6887)\n",
    "batch2 = (9000+4134+7540+8958+3496+6594+9756+3062+6529)\n",
    "\n",
    "print(batch1/batch2)"
   ]
  },
  {
   "cell_type": "code",
   "execution_count": 17,
   "id": "2f67715e",
   "metadata": {},
   "outputs": [],
   "source": [
    "counts = [5845/0.771, 1899/0.771, 6159/0.771, 7417/0.771, 2051/0.771, 6227/0.771, 6696/0.771, 2340/0.771, 6887/0.771,\n",
    "        9000, 4134, 7540, 8958, 3496, 6594, 9756, 3062, 6529,\n",
    "        26266, 25079, 23077, 18663, 22913, 22567]\n",
    "vol = [1.37, 1.39, 1.33, 1.3, 1.29, 1.36, 1.35, 1.3, 1.3, \n",
    "       1.19, 1.28, 1.25, 1.35, 1.27, 1.27, 1.33, 1.25, 1.30,\n",
    "      1.27, 1.21, 1.27, 1.72, 1.12, 1.24]\n",
    "labels = ['sgControl1', 'sgITGB2', 'sgFLCN',\n",
    "         'sgControl1', 'sgITGB2', 'sgFLCN',\n",
    "         'sgControl1', 'sgITGB2', 'sgFLCN',\n",
    "         'sgControl1', 'sgITGB2', 'sgFLCN',\n",
    "         'sgControl1', 'sgITGB2', 'sgFLCN',\n",
    "         'sgControl1', 'sgITGB2', 'sgFLCN',\n",
    "         'sgControl1_all', 'sgITGB2_all', 'sgFLCN_all',\n",
    "         'sgControl1_all', 'sgITGB2_all', 'sgFLCN_all']"
   ]
  },
  {
   "cell_type": "code",
   "execution_count": 29,
   "id": "6e5445f0",
   "metadata": {},
   "outputs": [],
   "source": [
    "df = pd.DataFrame(counts, columns = ['counts'])"
   ]
  },
  {
   "cell_type": "code",
   "execution_count": 30,
   "id": "96ec6e74",
   "metadata": {},
   "outputs": [],
   "source": [
    "df['volume_ml'] = vol\n",
    "df['label'] = labels\n",
    "df['index'] = df.index"
   ]
  },
  {
   "cell_type": "code",
   "execution_count": 31,
   "id": "26e742c9",
   "metadata": {},
   "outputs": [
    {
     "data": {
      "text/html": [
       "<div>\n",
       "<style scoped>\n",
       "    .dataframe tbody tr th:only-of-type {\n",
       "        vertical-align: middle;\n",
       "    }\n",
       "\n",
       "    .dataframe tbody tr th {\n",
       "        vertical-align: top;\n",
       "    }\n",
       "\n",
       "    .dataframe thead th {\n",
       "        text-align: right;\n",
       "    }\n",
       "</style>\n",
       "<table border=\"1\" class=\"dataframe\">\n",
       "  <thead>\n",
       "    <tr style=\"text-align: right;\">\n",
       "      <th></th>\n",
       "      <th>counts</th>\n",
       "      <th>volume_ml</th>\n",
       "      <th>label</th>\n",
       "      <th>index</th>\n",
       "      <th>counts_total</th>\n",
       "    </tr>\n",
       "  </thead>\n",
       "  <tbody>\n",
       "    <tr>\n",
       "      <th>0</th>\n",
       "      <td>7581.063554</td>\n",
       "      <td>1.37</td>\n",
       "      <td>sgControl1</td>\n",
       "      <td>0</td>\n",
       "      <td>103860.570687</td>\n",
       "    </tr>\n",
       "    <tr>\n",
       "      <th>1</th>\n",
       "      <td>2463.035019</td>\n",
       "      <td>1.39</td>\n",
       "      <td>sgITGB2</td>\n",
       "      <td>1</td>\n",
       "      <td>34236.186770</td>\n",
       "    </tr>\n",
       "    <tr>\n",
       "      <th>2</th>\n",
       "      <td>7988.326848</td>\n",
       "      <td>1.33</td>\n",
       "      <td>sgFLCN</td>\n",
       "      <td>2</td>\n",
       "      <td>106244.747082</td>\n",
       "    </tr>\n",
       "    <tr>\n",
       "      <th>3</th>\n",
       "      <td>9619.974060</td>\n",
       "      <td>1.30</td>\n",
       "      <td>sgControl1</td>\n",
       "      <td>3</td>\n",
       "      <td>125059.662776</td>\n",
       "    </tr>\n",
       "    <tr>\n",
       "      <th>4</th>\n",
       "      <td>2660.181582</td>\n",
       "      <td>1.29</td>\n",
       "      <td>sgITGB2</td>\n",
       "      <td>4</td>\n",
       "      <td>34316.342412</td>\n",
       "    </tr>\n",
       "    <tr>\n",
       "      <th>5</th>\n",
       "      <td>8076.523995</td>\n",
       "      <td>1.36</td>\n",
       "      <td>sgFLCN</td>\n",
       "      <td>5</td>\n",
       "      <td>109840.726329</td>\n",
       "    </tr>\n",
       "    <tr>\n",
       "      <th>6</th>\n",
       "      <td>8684.824903</td>\n",
       "      <td>1.35</td>\n",
       "      <td>sgControl1</td>\n",
       "      <td>6</td>\n",
       "      <td>117245.136187</td>\n",
       "    </tr>\n",
       "    <tr>\n",
       "      <th>7</th>\n",
       "      <td>3035.019455</td>\n",
       "      <td>1.30</td>\n",
       "      <td>sgITGB2</td>\n",
       "      <td>7</td>\n",
       "      <td>39455.252918</td>\n",
       "    </tr>\n",
       "    <tr>\n",
       "      <th>8</th>\n",
       "      <td>8932.555123</td>\n",
       "      <td>1.30</td>\n",
       "      <td>sgFLCN</td>\n",
       "      <td>8</td>\n",
       "      <td>116123.216602</td>\n",
       "    </tr>\n",
       "    <tr>\n",
       "      <th>9</th>\n",
       "      <td>9000.000000</td>\n",
       "      <td>1.19</td>\n",
       "      <td>sgControl1</td>\n",
       "      <td>9</td>\n",
       "      <td>107100.000000</td>\n",
       "    </tr>\n",
       "    <tr>\n",
       "      <th>10</th>\n",
       "      <td>4134.000000</td>\n",
       "      <td>1.28</td>\n",
       "      <td>sgITGB2</td>\n",
       "      <td>10</td>\n",
       "      <td>52915.200000</td>\n",
       "    </tr>\n",
       "    <tr>\n",
       "      <th>11</th>\n",
       "      <td>7540.000000</td>\n",
       "      <td>1.25</td>\n",
       "      <td>sgFLCN</td>\n",
       "      <td>11</td>\n",
       "      <td>94250.000000</td>\n",
       "    </tr>\n",
       "    <tr>\n",
       "      <th>12</th>\n",
       "      <td>8958.000000</td>\n",
       "      <td>1.35</td>\n",
       "      <td>sgControl1</td>\n",
       "      <td>12</td>\n",
       "      <td>120933.000000</td>\n",
       "    </tr>\n",
       "    <tr>\n",
       "      <th>13</th>\n",
       "      <td>3496.000000</td>\n",
       "      <td>1.27</td>\n",
       "      <td>sgITGB2</td>\n",
       "      <td>13</td>\n",
       "      <td>44399.200000</td>\n",
       "    </tr>\n",
       "    <tr>\n",
       "      <th>14</th>\n",
       "      <td>6594.000000</td>\n",
       "      <td>1.27</td>\n",
       "      <td>sgFLCN</td>\n",
       "      <td>14</td>\n",
       "      <td>83743.800000</td>\n",
       "    </tr>\n",
       "    <tr>\n",
       "      <th>15</th>\n",
       "      <td>9756.000000</td>\n",
       "      <td>1.33</td>\n",
       "      <td>sgControl1</td>\n",
       "      <td>15</td>\n",
       "      <td>129754.800000</td>\n",
       "    </tr>\n",
       "    <tr>\n",
       "      <th>16</th>\n",
       "      <td>3062.000000</td>\n",
       "      <td>1.25</td>\n",
       "      <td>sgITGB2</td>\n",
       "      <td>16</td>\n",
       "      <td>38275.000000</td>\n",
       "    </tr>\n",
       "    <tr>\n",
       "      <th>17</th>\n",
       "      <td>6529.000000</td>\n",
       "      <td>1.30</td>\n",
       "      <td>sgFLCN</td>\n",
       "      <td>17</td>\n",
       "      <td>84877.000000</td>\n",
       "    </tr>\n",
       "    <tr>\n",
       "      <th>18</th>\n",
       "      <td>26266.000000</td>\n",
       "      <td>1.27</td>\n",
       "      <td>sgControl1_all</td>\n",
       "      <td>18</td>\n",
       "      <td>333578.200000</td>\n",
       "    </tr>\n",
       "    <tr>\n",
       "      <th>19</th>\n",
       "      <td>25079.000000</td>\n",
       "      <td>1.21</td>\n",
       "      <td>sgITGB2_all</td>\n",
       "      <td>19</td>\n",
       "      <td>303455.900000</td>\n",
       "    </tr>\n",
       "    <tr>\n",
       "      <th>20</th>\n",
       "      <td>23077.000000</td>\n",
       "      <td>1.27</td>\n",
       "      <td>sgFLCN_all</td>\n",
       "      <td>20</td>\n",
       "      <td>293077.900000</td>\n",
       "    </tr>\n",
       "    <tr>\n",
       "      <th>21</th>\n",
       "      <td>18663.000000</td>\n",
       "      <td>1.72</td>\n",
       "      <td>sgControl1_all</td>\n",
       "      <td>21</td>\n",
       "      <td>321003.600000</td>\n",
       "    </tr>\n",
       "    <tr>\n",
       "      <th>22</th>\n",
       "      <td>22913.000000</td>\n",
       "      <td>1.12</td>\n",
       "      <td>sgITGB2_all</td>\n",
       "      <td>22</td>\n",
       "      <td>256625.600000</td>\n",
       "    </tr>\n",
       "    <tr>\n",
       "      <th>23</th>\n",
       "      <td>22567.000000</td>\n",
       "      <td>1.24</td>\n",
       "      <td>sgFLCN_all</td>\n",
       "      <td>23</td>\n",
       "      <td>279830.800000</td>\n",
       "    </tr>\n",
       "  </tbody>\n",
       "</table>\n",
       "</div>"
      ],
      "text/plain": [
       "          counts  volume_ml           label  index   counts_total\n",
       "0    7581.063554       1.37      sgControl1      0  103860.570687\n",
       "1    2463.035019       1.39         sgITGB2      1   34236.186770\n",
       "2    7988.326848       1.33          sgFLCN      2  106244.747082\n",
       "3    9619.974060       1.30      sgControl1      3  125059.662776\n",
       "4    2660.181582       1.29         sgITGB2      4   34316.342412\n",
       "5    8076.523995       1.36          sgFLCN      5  109840.726329\n",
       "6    8684.824903       1.35      sgControl1      6  117245.136187\n",
       "7    3035.019455       1.30         sgITGB2      7   39455.252918\n",
       "8    8932.555123       1.30          sgFLCN      8  116123.216602\n",
       "9    9000.000000       1.19      sgControl1      9  107100.000000\n",
       "10   4134.000000       1.28         sgITGB2     10   52915.200000\n",
       "11   7540.000000       1.25          sgFLCN     11   94250.000000\n",
       "12   8958.000000       1.35      sgControl1     12  120933.000000\n",
       "13   3496.000000       1.27         sgITGB2     13   44399.200000\n",
       "14   6594.000000       1.27          sgFLCN     14   83743.800000\n",
       "15   9756.000000       1.33      sgControl1     15  129754.800000\n",
       "16   3062.000000       1.25         sgITGB2     16   38275.000000\n",
       "17   6529.000000       1.30          sgFLCN     17   84877.000000\n",
       "18  26266.000000       1.27  sgControl1_all     18  333578.200000\n",
       "19  25079.000000       1.21     sgITGB2_all     19  303455.900000\n",
       "20  23077.000000       1.27      sgFLCN_all     20  293077.900000\n",
       "21  18663.000000       1.72  sgControl1_all     21  321003.600000\n",
       "22  22913.000000       1.12     sgITGB2_all     22  256625.600000\n",
       "23  22567.000000       1.24      sgFLCN_all     23  279830.800000"
      ]
     },
     "execution_count": 31,
     "metadata": {},
     "output_type": "execute_result"
    }
   ],
   "source": [
    "df['counts_total'] = df['counts']*10*df['volume_ml']\n",
    "df"
   ]
  },
  {
   "cell_type": "code",
   "execution_count": 35,
   "id": "b5aa963d",
   "metadata": {},
   "outputs": [
    {
     "name": "stdout",
     "output_type": "stream",
     "text": [
      "sgControl1 [0.31733412]\n",
      "sgControl1 [0.38210553]\n",
      "sgControl1 [0.35822914]\n",
      "sgControl1 [0.32723183]\n",
      "sgControl1 [0.36949698]\n",
      "sgControl1 [0.39645099]\n",
      "sgITGB2 [0.1222543]\n",
      "sgITGB2 [0.12254053]\n",
      "sgITGB2 [0.14089111]\n",
      "sgITGB2 [0.18895536]\n",
      "sgITGB2 [0.1585455]\n",
      "sgITGB2 [0.13667654]\n",
      "sgFLCN [0.37089591]\n",
      "sgFLCN [0.38344932]\n",
      "sgFLCN [0.40538123]\n",
      "sgFLCN [0.32902276]\n",
      "sgFLCN [0.29234606]\n",
      "sgFLCN [0.29630201]\n"
     ]
    }
   ],
   "source": [
    "for line in ['sgControl1', 'sgITGB2', 'sgFLCN']:\n",
    "    df_ = df[df.label == line]\n",
    "    all_mean = df[df.label == line+'_all'].counts_total.mean()\n",
    "    for g,d_ in df_.groupby('index'):\n",
    "        \n",
    "        print(line, d_.counts_total.values/all_mean)"
   ]
  },
  {
   "cell_type": "code",
   "execution_count": 36,
   "id": "eff6f07a",
   "metadata": {},
   "outputs": [
    {
     "name": "stdout",
     "output_type": "stream",
     "text": [
      "sgControl1 0.3584747644220098\n",
      "sgITGB2 0.14497722331551588\n",
      "sgFLCN 0.34623288144223224\n"
     ]
    },
    {
     "data": {
      "image/png": "[encoded data removed]",
      "text/plain": [
       "<Figure size 400x400 with 1 Axes>"
      ]
     },
     "metadata": {},
     "output_type": "display_data"
    }
   ],
   "source": [
    "count = 0\n",
    "for line in ['sgControl1', 'sgITGB2', 'sgFLCN']:\n",
    "    recov_mean = df[df.label == line].counts_total.mean()\n",
    "    all_mean = df[df.label == line+'_all'].counts_total.mean()\n",
    "    print(line, recov_mean/all_mean)\n",
    "    plt.bar(count, recov_mean/all_mean)\n",
    "    count+=1"
   ]
  },
  {
   "cell_type": "code",
   "execution_count": 83,
   "id": "8ca30a57",
   "metadata": {},
   "outputs": [
    {
     "data": {
      "text/plain": [
       "([<matplotlib.axis.XTick at 0x7fc39868c490>,\n",
       "  <matplotlib.axis.XTick at 0x7fc39868c450>,\n",
       "  <matplotlib.axis.XTick at 0x7fc3703bc190>],\n",
       " [Text(0, 0, 'sgControl'), Text(1, 0, 'sgITGB2'), Text(2, 0, 'sgFLCN')])"
      ]
     },
     "execution_count": 83,
     "metadata": {},
     "output_type": "execute_result"
    },
    {
     "data": {
      "image/png": "[encoded data removed]",
      "text/plain": [
       "<Figure size 400x400 with 1 Axes>"
      ]
     },
     "metadata": {},
     "output_type": "display_data"
    }
   ],
   "source": [
    "sgControl1 = [0.317, 0.382, 0.358, 0.327, 0.369, 0.396]\n",
    "sgITGB2 = [0.122, 0.123, 0.141, 0.189, 0.159, 0.137]\n",
    "sgFLCN = [0.371, 0.383, 0.405, 0.329, 0.292, 0.296]\n",
    "\n",
    "plt.bar(0, np.mean(sgControl1), yerr=np.std(sgControl1))\n",
    "for i in np.arange(6):\n",
    "    plt.scatter(0.05*np.random.randn(1), sgControl1[i], color = 'k', alpha = 0.5)\n",
    "\n",
    "plt.bar(1, np.mean(sgITGB2), yerr=np.std(sgITGB2))\n",
    "for i in np.arange(6):\n",
    "    plt.scatter(1+0.05*np.random.randn(1), sgITGB2[i], color = 'k', alpha = 0.5)\n",
    "\n",
    "plt.bar(2, np.mean(sgFLCN), yerr=np.std(sgFLCN))\n",
    "for i in np.arange(6):\n",
    "    plt.scatter(2+0.05*np.random.randn(1), sgFLCN[i], color = 'k', alpha = 0.5)\n",
    "    \n",
    "plt.ylabel('adhered cell fraction', fontsize = 14)\n",
    "plt.xticks([0,1,2], ['sgControl', 'sgITGB2', 'sgFLCN'])"
   ]
  },
  {
   "cell_type": "code",
   "execution_count": 63,
   "id": "d04ff9b0",
   "metadata": {},
   "outputs": [
    {
     "data": {
      "text/plain": [
       "array([1.28093399])"
      ]
     },
     "execution_count": 63,
     "metadata": {},
     "output_type": "execute_result"
    }
   ],
   "source": []
  },
  {
   "cell_type": "code",
   "execution_count": 55,
   "id": "0ac7331c",
   "metadata": {},
   "outputs": [
    {
     "name": "stdout",
     "output_type": "stream",
     "text": [
      "Help on built-in function randn:\n",
      "\n",
      "randn(...) method of numpy.random.mtrand.RandomState instance\n",
      "    randn(d0, d1, ..., dn)\n",
      "    \n",
      "    Return a sample (or samples) from the \"standard normal\" distribution.\n",
      "    \n",
      "    .. note::\n",
      "        This is a convenience function for users porting code from Matlab,\n",
      "        and wraps `standard_normal`. That function takes a\n",
      "        tuple to specify the size of the output, which is consistent with\n",
      "        other NumPy functions like `numpy.zeros` and `numpy.ones`.\n",
      "    \n",
      "    .. note::\n",
      "        New code should use the ``standard_normal`` method of a ``default_rng()``\n",
      "        instance instead; please see the :ref:`random-quick-start`.\n",
      "    \n",
      "    If positive int_like arguments are provided, `randn` generates an array\n",
      "    of shape ``(d0, d1, ..., dn)``, filled\n",
      "    with random floats sampled from a univariate \"normal\" (Gaussian)\n",
      "    distribution of mean 0 and variance 1. A single float randomly sampled\n",
      "    from the distribution is returned if no argument is provided.\n",
      "    \n",
      "    Parameters\n",
      "    ----------\n",
      "    d0, d1, ..., dn : int, optional\n",
      "        The dimensions of the returned array, must be non-negative.\n",
      "        If no argument is given a single Python float is returned.\n",
      "    \n",
      "    Returns\n",
      "    -------\n",
      "    Z : ndarray or float\n",
      "        A ``(d0, d1, ..., dn)``-shaped array of floating-point samples from\n",
      "        the standard normal distribution, or a single such float if\n",
      "        no parameters were supplied.\n",
      "    \n",
      "    See Also\n",
      "    --------\n",
      "    standard_normal : Similar, but takes a tuple as its argument.\n",
      "    normal : Also accepts mu and sigma arguments.\n",
      "    Generator.standard_normal: which should be used for new code.\n",
      "    \n",
      "    Notes\n",
      "    -----\n",
      "    For random samples from :math:`N(\\mu, \\sigma^2)`, use:\n",
      "    \n",
      "    ``sigma * np.random.randn(...) + mu``\n",
      "    \n",
      "    Examples\n",
      "    --------\n",
      "    >>> np.random.randn()\n",
      "    2.1923875335537315  # random\n",
      "    \n",
      "    Two-by-four array of samples from N(3, 6.25):\n",
      "    \n",
      "    >>> 3 + 2.5 * np.random.randn(2, 4)\n",
      "    array([[-4.49401501,  4.00950034, -1.81814867,  7.29718677],   # random\n",
      "           [ 0.39924804,  4.68456316,  4.99394529,  4.84057254]])  # random\n",
      "\n"
     ]
    }
   ],
   "source": [
    "help(np.random.randn)"
   ]
  },
  {
   "cell_type": "code",
   "execution_count": 68,
   "id": "a937e904",
   "metadata": {},
   "outputs": [
    {
     "data": {
      "text/plain": [
       "array([ 0.01145367, -0.00358753, -0.01940642, -0.00086474,  0.00059702,\n",
       "       -0.00356119, -0.00259751, -0.02647957, -0.01366904, -0.00650013])"
      ]
     },
     "execution_count": 68,
     "metadata": {},
     "output_type": "execute_result"
    }
   ],
   "source": [
    "0.02*np.random.randn(10)"
   ]
  },
  {
   "cell_type": "code",
   "execution_count": null,
   "id": "2fa1c378",
   "metadata": {},
   "outputs": [],
   "source": []
  }
 ],
 "metadata": {
  "kernelspec": {
   "display_name": "Python 3 (ipykernel)",
   "language": "python",
   "name": "python3"
  },
  "language_info": {
   "codemirror_mode": {
    "name": "ipython",
    "version": 3
   },
   "file_extension": ".py",
   "mimetype": "text/x-python",
   "name": "python",
   "nbconvert_exporter": "python",
   "pygments_lexer": "ipython3",
   "version": "3.7.16"
  }
 },
 "nbformat": 4,
 "nbformat_minor": 5
}
