{
 "cells": [
  {
   "cell_type": "code",
   "execution_count": 2,
   "metadata": {
    "colab": {
     "base_uri": "https://localhost:8080/"
    },
    "executionInfo": {
     "elapsed": 8486,
     "status": "ok",
     "timestamp": 1664853297868,
     "user": {
      "displayName": "Nathan Belliveau",
      "userId": "14903406955759587582"
     },
     "user_tz": 420
    },
    "id": "O06avEi-pvqB",
    "outputId": "c917b520-c971-424b-ffb9-ea7708214dfc"
   },
   "outputs": [
    {
     "name": "stdout",
     "output_type": "stream",
     "text": [
      "Looking in indexes: https://pypi.org/simple, https://us-python.pkg.dev/colab-wheels/public/simple/\n",
      "Collecting parallelPermutationTest\n",
      "  Downloading parallelPermutationTest-1.0.3.tar.gz (31 kB)\n",
      "Building wheels for collected packages: parallelPermutationTest\n",
      "  Building wheel for parallelPermutationTest (setup.py) ... \u001b[?25l\u001b[?25hdone\n",
      "  Created wheel for parallelPermutationTest: filename=parallelPermutationTest-1.0.3-cp37-cp37m-linux_x86_64.whl size=63297 sha256=5e8eaa7ea38e81542c79edc339ee3385efb0ea0f6cfe3011525b8134777665bd\n",
      "  Stored in directory: /root/.cache/pip/wheels/13/4a/fd/212f336df03a0d194e345b8f03c7a3bc3bd1bfdbc2eddc4621\n",
      "Successfully built parallelPermutationTest\n",
      "Installing collected packages: parallelPermutationTest\n",
      "Successfully installed parallelPermutationTest-1.0.3\n"
     ]
    }
   ],
   "source": [
    "!pip install parallelPermutationTest\n",
    "# parallelPermutationTest-1.0.3\n",
    "\n",
    "import torch\n",
    "import parallelPermutationTest as ppt\n",
    "n_bins = 1000\n",
    "import glob\n",
    "import numpy as np\n",
    "import pandas as pd\n",
    "from google.colab import files\n",
    "import random\n",
    "\n"
   ]
  },
  {
   "cell_type": "code",
   "execution_count": 3,
   "metadata": {
    "colab": {
     "base_uri": "https://localhost:8080/"
    },
    "executionInfo": {
     "elapsed": 23935,
     "status": "ok",
     "timestamp": 1664853321798,
     "user": {
      "displayName": "Nathan Belliveau",
      "userId": "14903406955759587582"
     },
     "user_tz": 420
    },
    "id": "kjJiYAMAQW8k",
    "outputId": "a5d784de-cf35-4429-e225-d0302f1f7d63"
   },
   "outputs": [
    {
     "name": "stdout",
     "output_type": "stream",
     "text": [
      "Mounted at /content/drive\n"
     ]
    }
   ],
   "source": [
    "from google.colab import drive\n",
    "drive.mount('/content/drive')"
   ]
  },
  {
   "cell_type": "code",
   "execution_count": 4,
   "metadata": {
    "colab": {
     "base_uri": "https://localhost:8080/"
    },
    "executionInfo": {
     "elapsed": 252,
     "status": "ok",
     "timestamp": 1664853322045,
     "user": {
      "displayName": "Nathan Belliveau",
      "userId": "14903406955759587582"
     },
     "user_tz": 420
    },
    "id": "I8ubj37wBFZy",
    "outputId": "48d0b8f2-ff21-4746-8c0c-3444b7eda7f0"
   },
   "outputs": [
    {
     "data": {
      "text/plain": [
       "['drive/MyDrive/colab_files/20221003_galvo/20220930_screen_log2fold_diffs_galvo_sgRNA_means_bestruns_3.csv',\n",
       " 'drive/MyDrive/colab_files/20221003_galvo/20220930_screen_log2fold_diffs_galvo_sgRNA_means_topruns_3.csv',\n",
       " 'drive/MyDrive/colab_files/20221003_galvo/20220930_screen_log2fold_diffs_galvo_sgRNA_means_3.csv',\n",
       " 'drive/MyDrive/colab_files/20221003_galvo/20220930_screen_log2fold_diffs_galvo_sgRNA_means_2.csv',\n",
       " 'drive/MyDrive/colab_files/20221003_galvo/20220930_screen_log2fold_diffs_galvo_sgRNA_means_topruns_2.csv',\n",
       " 'drive/MyDrive/colab_files/20221003_galvo/20220930_screen_log2fold_diffs_galvo_sgRNA_means_bestruns_2.csv',\n",
       " 'drive/MyDrive/colab_files/20221003_galvo/20220930_screen_log2fold_diffs_galvo_sgRNA_means_original_analysis.csv',\n",
       " 'drive/MyDrive/colab_files/20221003_galvo/20220930_screen_log2fold_diffs_galvo_sgRNA_means_topruns_original_analysis.csv',\n",
       " 'drive/MyDrive/colab_files/20221003_galvo/20220930_screen_log2fold_diffs_galvo_sgRNA_means_bestruns_original_analysis.csv',\n",
       " 'drive/MyDrive/colab_files/20221003_galvo/20220930_screen_log2fold_diffs_galvo_sgRNA_means_topruns_original_analysis_pvalue.csv',\n",
       " 'drive/MyDrive/colab_files/20221003_galvo/20220930_screen_log2fold_diffs_galvo_sgRNA_means_topruns_3_pvalue.csv',\n",
       " 'drive/MyDrive/colab_files/20221003_galvo/20220930_screen_log2fold_diffs_galvo_sgRNA_means_topruns_2_pvalue.csv',\n",
       " 'drive/MyDrive/colab_files/20221003_galvo/20220930_screen_log2fold_diffs_galvo_sgRNA_means_original_analysis_pvalue.csv',\n",
       " 'drive/MyDrive/colab_files/20221003_galvo/20220930_screen_log2fold_diffs_galvo_sgRNA_means_bestruns_original_analysis_pvalue.csv',\n",
       " 'drive/MyDrive/colab_files/20221003_galvo/20220930_screen_log2fold_diffs_galvo_sgRNA_means_bestruns_3_pvalue.csv',\n",
       " 'drive/MyDrive/colab_files/20221003_galvo/20220930_screen_log2fold_diffs_galvo_sgRNA_means_2_pvalue.csv']"
      ]
     },
     "execution_count": 4,
     "metadata": {},
     "output_type": "execute_result"
    }
   ],
   "source": [
    "# files containing log2foldchange data\n",
    "# fdir = 'drive/MyDrive/colab_files/20221003_galvo/'\n",
    "\n",
    "f_means = glob.glob(fdir+'*_means_*.csv')\n",
    "f_means"
   ]
  },
  {
   "cell_type": "markdown",
   "metadata": {
    "id": "eLX6LrG8vngg"
   },
   "source": [
    "## Permutation Tests to calculate p-values: Proliferation and Differentiation Screen Datasets\n",
    "\n"
   ]
  },
  {
   "cell_type": "code",
   "execution_count": 7,
   "metadata": {
    "colab": {
     "base_uri": "https://localhost:8080/"
    },
    "executionInfo": {
     "elapsed": 1370961,
     "status": "ok",
     "timestamp": 1664839952869,
     "user": {
      "displayName": "Nathan Belliveau",
      "userId": "14903406955759587582"
     },
     "user_tz": 420
    },
    "id": "Aq7N2Psovr4t",
    "outputId": "ad5cbf49-6a14-41c1-8b09-f91ab85b667b"
   },
   "outputs": [
    {
     "name": "stdout",
     "output_type": "stream",
     "text": [
      "drive/MyDrive/colab_files/20221003_galvo/20220930_screen_log2fold_diffs_galvo_sgRNA_means_2.csv\n",
      "drive/MyDrive/colab_files/20221003_galvo/20220930_screen_log2fold_diffs_galvo_sgRNA_means_topruns_original_analysis_pvalue.csv\n",
      "drive/MyDrive/colab_files/20221003_galvo/20220930_screen_log2fold_diffs_galvo_sgRNA_means_topruns_3_pvalue.csv\n",
      "drive/MyDrive/colab_files/20221003_galvo/20220930_screen_log2fold_diffs_galvo_sgRNA_means_topruns_2_pvalue.csv\n",
      "drive/MyDrive/colab_files/20221003_galvo/20220930_screen_log2fold_diffs_galvo_sgRNA_means_original_analysis_pvalue.csv\n",
      "drive/MyDrive/colab_files/20221003_galvo/20220930_screen_log2fold_diffs_galvo_sgRNA_means_bestruns_original_analysis_pvalue.csv\n",
      "drive/MyDrive/colab_files/20221003_galvo/20220930_screen_log2fold_diffs_galvo_sgRNA_means_bestruns_3_pvalue.csv\n"
     ]
    }
   ],
   "source": [
    "for f in f_means[8:]:\n",
    "  _df = pd.read_csv(f)\n",
    "  df_genes_perm = pd.DataFrame()\n",
    "  print(f)\n",
    "\n",
    "  df_ctrl = _df[_df.gene.str.contains('CONTROL')]\n",
    "  control = df_ctrl.log2fold_diff_mean.values \n",
    "  control = control[~np.isnan(control)]\n",
    "\n",
    "  for gene, d in _df[~_df.gene.str.contains('CONTROL')].groupby('gene'):\n",
    "    pvalue = []\n",
    "    treatment = d.log2fold_diff_mean.values \n",
    "\n",
    "    if len(treatment) < 1:\n",
    "      df_genes_perm = df_genes_perm.append({'gene' : gene,\n",
    "                                      'log2fold_diff_mean' : d.log2fold_diff_mean.mean(),\n",
    "                                      'exp' : f,\n",
    "                                      'pvalue' : np.nan}, ignore_index=True)\n",
    "\n",
    "    else:\n",
    "      while True:\n",
    "        try:\n",
    "          pvalue = ppt.GreenFloatCuda(treatment, control, n_bins, batch_size=1)\n",
    "          break\n",
    "        except:\n",
    "          break\n",
    "      if len(pvalue) == 0:\n",
    "        pvalue = [np.nan]\n",
    "      df_genes_perm = df_genes_perm.append({'gene' : gene,\n",
    "                                            'log2fold_diff_mean' : d.log2fold_diff_mean.mean(),\n",
    "                                            'exp' : f,\n",
    "                                            'pvalue' : pvalue[0]}, ignore_index=True)\n",
    "      \n",
    "  # Calculate control genes averages using 3 sgRNA per each control 'gene'\n",
    "  d_ctrl = df_ctrl.copy().reset_index()\n",
    "  for i in np.arange(2000):\n",
    "    rndi = [random.randint(0,len(d_ctrl)) for k in np.arange(3)]\n",
    "    _d = d_ctrl.loc[[random.randint(0,len(d_ctrl)-1) for k in np.arange(3)]] \n",
    "    pvalue = ppt.GreenFloatCuda(_d.log2fold_diff_mean.values, control, n_bins, batch_size=1)\n",
    "    data_list = {'gene' : 'CONTROL_' + str(i),\n",
    "            'log2fold_diff_mean' : _d.log2fold_diff_mean.mean(),\n",
    "            'exp' : f,\n",
    "            'pvalue' : pvalue[0]}\n",
    "    df_genes_perm = df_genes_perm.append(data_list, ignore_index = True)\n",
    "\n",
    "  df_genes_perm.to_csv(f.split('.')[0] + '_pvalue.csv')"
   ]
  },
  {
   "cell_type": "code",
   "execution_count": null,
   "metadata": {
    "id": "pZGwQhssSdsl"
   },
   "outputs": [],
   "source": []
  },
  {
   "cell_type": "markdown",
   "metadata": {
    "id": "1mEu4fU8hnie"
   },
   "source": [
    "## Lets assess sgRNAs across all the experiments.\n",
    "\n",
    "I'm aware of a number of genes where  there only appear to be 1/3 of the sgRNA that is effective. However it's a bit unclear who to assess and seperate these from the noise; the ECM data is  a  good example of  this. Lets  take a slightly different and consider each sgRNA across all the  experiments; comparing them to the sgRNA controls. Question: do I compare against all the  control data, or average  each  sgRNA. Maybe try both. The first is probably more correct?"
   ]
  },
  {
   "cell_type": "code",
   "execution_count": 5,
   "metadata": {
    "colab": {
     "base_uri": "https://localhost:8080/"
    },
    "executionInfo": {
     "elapsed": 124,
     "status": "ok",
     "timestamp": 1664853326898,
     "user": {
      "displayName": "Nathan Belliveau",
      "userId": "14903406955759587582"
     },
     "user_tz": 420
    },
    "id": "VOJ2fH6bD5Ql",
    "outputId": "afaa68fb-4e33-4d52-ce53-f1914f9c935c"
   },
   "outputs": [
    {
     "data": {
      "text/plain": [
       "array(['drive/MyDrive/colab_files/20221003_galvo/20220930_screen_log2fold_diffs_galvo_sgRNA_bestruns_3.csv',\n",
       "       'drive/MyDrive/colab_files/20221003_galvo/20220930_screen_log2fold_diffs_galvo_sgRNA_3.csv',\n",
       "       'drive/MyDrive/colab_files/20221003_galvo/20220930_screen_log2fold_diffs_galvo_sgRNA_2.csv',\n",
       "       'drive/MyDrive/colab_files/20221003_galvo/20220930_screen_log2fold_diffs_galvo_sgRNA_topruns_3.csv',\n",
       "       'drive/MyDrive/colab_files/20221003_galvo/20220930_screen_log2fold_diffs_galvo_sgRNA_topruns_2.csv',\n",
       "       'drive/MyDrive/colab_files/20221003_galvo/20220930_screen_log2fold_diffs_galvo_sgRNA_bestruns_2.csv',\n",
       "       'drive/MyDrive/colab_files/20221003_galvo/20220930_screen_log2fold_diffs_galvo_sgRNA_original_analysis.csv',\n",
       "       'drive/MyDrive/colab_files/20221003_galvo/20220930_screen_log2fold_diffs_galvo_sgRNA_topruns_original_analysis.csv',\n",
       "       'drive/MyDrive/colab_files/20221003_galvo/20220930_screen_log2fold_diffs_galvo_sgRNA_bestruns_original_analysis.csv',\n",
       "       'drive/MyDrive/colab_files/20221003_galvo/20220930_screen_log2fold_diffs_galvo_sgRNA_original_analysis_sgRNA_pvalue.csv'],\n",
       "      dtype='<U118')"
      ]
     },
     "execution_count": 5,
     "metadata": {},
     "output_type": "execute_result"
    }
   ],
   "source": [
    "# files containing log2foldchange data\n",
    "fdir = 'drive/MyDrive/colab_files/20221003_galvo/'\n",
    "fnames_ = glob.glob(fdir+'*.csv')\n",
    "fnames = []\n",
    "for f in fnames_:\n",
    "  if '_means_' in f:\n",
    "    continue\n",
    "  fnames = np.append(fnames,f)\n",
    "\n",
    "fnames"
   ]
  },
  {
   "cell_type": "markdown",
   "metadata": {
    "id": "sDIEctKGahJ-"
   },
   "source": [
    "Now lets go through each sgRNA and compare across ALL experiments (transwell only)"
   ]
  },
  {
   "cell_type": "code",
   "execution_count": 10,
   "metadata": {
    "executionInfo": {
     "elapsed": 205,
     "status": "ok",
     "timestamp": 1664841042284,
     "user": {
      "displayName": "Nathan Belliveau",
      "userId": "14903406955759587582"
     },
     "user_tz": 420
    },
    "id": "1E7ahUhitFUc"
   },
   "outputs": [],
   "source": [
    "# df = pd.read_csv(fname)\n",
    "# df = df[df.exp.str.contains('tracketch')]\n",
    "# print(len(df.sgRNA.unique()))\n",
    "# df_genes_perm_all_  = pd.read_csv('drive/MyDrive/colab_files/20220809/20211222_screen_log2fold_diffs_tracketchcombined_all_sgRNA_pvalues.csv')\n",
    "# df = df[~df.sgRNA.isin(df_genes_perm_all_.sgRNA.unique())]\n",
    "# print(len(df.sgRNA.unique()))"
   ]
  },
  {
   "cell_type": "code",
   "execution_count": null,
   "metadata": {
    "colab": {
     "base_uri": "https://localhost:8080/"
    },
    "id": "WrkF0JgFl6Xb",
    "outputId": "5fdca487-b043-450f-f590-8f22bdbcba60"
   },
   "outputs": [
    {
     "name": "stdout",
     "output_type": "stream",
     "text": [
      "drive/MyDrive/colab_files/20221003_galvo/20220930_screen_log2fold_diffs_galvo_sgRNA_bestruns_3.csv\n"
     ]
    }
   ],
   "source": [
    "for f in fnames:\n",
    "  print(f)\n",
    "  df_genes_perm_all_ = pd.DataFrame()\n",
    "  df = pd.read_csv(f)\n",
    "\n",
    "  control = []\n",
    "  for sg, d in df[df.annotated_gene_symbol.str.contains('CONTROL')].groupby('sgRNA'):\n",
    "    control = np.append(control, d['diff'].mean()) \n",
    "  control = control[~np.isnan(control)]\n",
    "\n",
    "  df_ctrl = pd.DataFrame()\n",
    "  for sg, d in df[df.annotated_gene_symbol.str.contains('CONTROL')].groupby('sgRNA'):\n",
    "    datalist = {'annotated_gene_symbol' : sg,\n",
    "                'log2fold_diff_mean' : d['diff'].mean()}\n",
    "    df_ctrl = df_ctrl.append(datalist, ignore_index = True)  \n",
    "\n",
    "  # for sg, d in df[~df.gene.str.contains('CONTROL')].groupby('sgRNA'):\n",
    "  for sg, d in df.groupby('sgRNA'):\n",
    "    pvalue = None\n",
    "    \n",
    "    treatment = d['diff'].values \n",
    "\n",
    "    if len(treatment) < 1:\n",
    "      df_genes_perm_all_ = df_genes_perm_all_.append({'annotated_gene_symbol' :d.gene.unique()[0],\n",
    "                                                    'sgRNA' : sg,\n",
    "                                      'log2fold_diff_mean' : d['diff'].mean(),\n",
    "                                      'exp' : f,\n",
    "                                      'pvalue' : np.nan}, ignore_index=True)\n",
    "\n",
    "    else:\n",
    "      while True:\n",
    "        try:\n",
    "          pvalue = ppt.GreenFloatCuda(treatment, control, n_bins, batch_size=1)\n",
    "          break\n",
    "        except:\n",
    "          break\n",
    "      if len(pvalue) == 0:\n",
    "        pvalue = [np.nan]\n",
    "      df_genes_perm_all_ = df_genes_perm_all_.append({'annotated_gene_symbol' :d.annotated_gene_symbol.unique()[0],\n",
    "                                                    'sgRNA' : sg,\n",
    "                                            'log2fold_diff_mean' : d['diff'].mean(),\n",
    "                                            'exp' : f,\n",
    "                                            'pvalue' : pvalue[0]}, ignore_index=True)\n",
    "    \n",
    "    df_genes_perm_all_.to_csv(f.split('.')[0] + '_individualsgRNA_pvalue.csv')\n",
    "\n",
    "# # Calculate pseudogenes\n",
    "# d_ctrl = df_ctrl.copy().reset_index()\n",
    "# for i in np.arange(2000):\n",
    "#   rndi = [random.randint(0,len(d_ctrl)) for k in np.arange(3)]\n",
    "#   _d = d_ctrl.loc[[random.randint(0,len(d_ctrl)-1) for k in np.arange(3)]] \n",
    "#   pvalue = ppt.GreenFloatCuda(_d.log2fold_diff.values, control, n_bins, batch_size=1)\n",
    "#   data_list = {'gene' : 'CONTROL_' + str(i),\n",
    "#                'sgRNA' : np.nan,\n",
    "#           'log2fold_diff_mean' : _d.log2fold_diff.mean(),\n",
    "#           'exp' : f,\n",
    "#           'pvalue' : pvalue[0]}\n",
    "#   df_genes_perm_all_ = df_genes_perm_all_.append(data_list, ignore_index = True)\n",
    "\n",
    "    \n",
    "# df_genes_perm_all_.to_csv('drive/MyDrive/colab_files/20220809/20211222_screen_log2fold_diffs_tracketchcombined_all_sgRNA_pvalues.csv')\n"
   ]
  },
  {
   "cell_type": "code",
   "execution_count": 1,
   "metadata": {
    "colab": {
     "base_uri": "https://localhost:8080/",
     "height": 164
    },
    "executionInfo": {
     "elapsed": 196,
     "status": "error",
     "timestamp": 1664853280179,
     "user": {
      "displayName": "Nathan Belliveau",
      "userId": "14903406955759587582"
     },
     "user_tz": 420
    },
    "id": "-NwDu36d_Pqd",
    "outputId": "d2f27c6d-7ac0-4ff2-a2f6-fec744373d54"
   },
   "outputs": [
    {
     "ename": "NameError",
     "evalue": "ignored",
     "output_type": "error",
     "traceback": [
      "\u001b[0;31m---------------------------------------------------------------------------\u001b[0m",
      "\u001b[0;31mNameError\u001b[0m                                 Traceback (most recent call last)",
      "\u001b[0;32m<ipython-input-1-7e363af0e27e>\u001b[0m in \u001b[0;36m<module>\u001b[0;34m\u001b[0m\n\u001b[0;32m----> 1\u001b[0;31m \u001b[0mdf_genes_perm_all_\u001b[0m\u001b[0;34m\u001b[0m\u001b[0;34m\u001b[0m\u001b[0m\n\u001b[0m",
      "\u001b[0;31mNameError\u001b[0m: name 'df_genes_perm_all_' is not defined"
     ]
    }
   ],
   "source": [
    "df_genes_perm_all_"
   ]
  },
  {
   "cell_type": "code",
   "execution_count": null,
   "metadata": {
    "id": "aPMJJdC5Z444"
   },
   "outputs": [],
   "source": [
    "# df_genes_perm_all_.to_csv('drive/MyDrive/colab_files/20220809/20211222_screen_log2fold_diffs_tracketchcombined_all_sgRNA_pvalues.csv')\n"
   ]
  }
 ],
 "metadata": {
  "accelerator": "GPU",
  "colab": {
   "collapsed_sections": [],
   "machine_shape": "hm",
   "provenance": [
    {
     "file_id": "1TKUQCcO1Y3midMH4IEvUli_fMQW1p_o4",
     "timestamp": 1660084425886
    },
    {
     "file_id": "1fLCVmV1PetssJPc4m7mMcMvlZshgIilE",
     "timestamp": 1640215543690
    },
    {
     "file_id": "1W3kxmGfhf1qWAWLTTr0g7hs3_iEaw2-y",
     "timestamp": 1630101392439
    }
   ]
  },
  "kernelspec": {
   "display_name": "Python 3",
   "language": "python",
   "name": "python3"
  },
  "language_info": {
   "codemirror_mode": {
    "name": "ipython",
    "version": 3
   },
   "file_extension": ".py",
   "mimetype": "text/x-python",
   "name": "python",
   "nbconvert_exporter": "python",
   "pygments_lexer": "ipython3",
   "version": "3.7.4"
  }
 },
 "nbformat": 4,
 "nbformat_minor": 1
}
